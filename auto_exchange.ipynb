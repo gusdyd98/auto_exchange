{
 "cells": [
  {
   "cell_type": "code",
   "execution_count": 2,
   "metadata": {},
   "outputs": [
    {
     "ename": "SyntaxError",
     "evalue": "invalid syntax (<ipython-input-2-2284bcf49786>, line 24)",
     "output_type": "error",
     "traceback": [
      "\u001b[1;36m  File \u001b[1;32m\"<ipython-input-2-2284bcf49786>\"\u001b[1;36m, line \u001b[1;32m24\u001b[0m\n\u001b[1;33m    cur_list={'AED':0, 'AUD':1, 'BHD':2, 'CAD':3, 'CHF':4, 'CNH':5, 'DKK':6, 'EUR':7, 'GBP':8, 'HKD':9 'IDR':10, 'JPY':11, 'KRW':12, 'KWD':13, 'MYR':14, 'NOK':15, 'NZD':16, 'SAR':17, 'SEK':18, 'SGD':19, 'THB':20, 'USD':21}\u001b[0m\n\u001b[1;37m                                                                                                           ^\u001b[0m\n\u001b[1;31mSyntaxError\u001b[0m\u001b[1;31m:\u001b[0m invalid syntax\n"
     ]
    }
   ],
   "source": [
    "import requests\n",
    "import datetime\n",
    "import json\n",
    "import telegram\n",
    "\n",
    "#공공 오픈API를 이용하여 외환 정보 받아오기...\n",
    "def api_set(day):\n",
    "    date=day.strftime('%Y-%m-%d')\n",
    "    api_key='kPcffQwkKLScfAOUl8LYW2Y4sG2IVsDi'\n",
    "    api='https://www.koreaexim.go.kr/site/program/financial/exchangeJSON?authkey={key}&searchdate={date}&data={data}'.format(key=api_key, date=date, data='AP01')\n",
    "    # data AP01: 환율, AP02: 대출금리, AP03: 국제금리\n",
    "    req=requests.get(api)\n",
    "    get_data=req.text\n",
    "    currency_json=json.loads(get_data)\n",
    "    \n",
    "    return currency_json\n",
    "\n",
    "#코드가 처음부터 시작되는 영역\n",
    "def main():\n",
    "    today=datetime.date.today() #오늘 날짜를 datetime형으로 가져오기\n",
    "    yesterday=today-datetime.timedelta(1) #오늘 정보가 없을 경우 어제 정보를 가져오기 위해 어제 날짜를 datetime형으로 가져오기\n",
    "    \n",
    "    result=['*** 오늘 {day}의 환율입니다. ***\\n주말 혹은 당일 정보 업데이트가 되지 않으면 전일(주말의 경우 금요일)의 정보가 표시 됩니다.\\n'.format(day=today)] #최종 표시될 메시지\n",
    "    cur_list={'AED':0, 'AUD':1, 'BHD':2, 'CAD':3, 'CHF':4, 'CNH':5, 'DKK':6, 'EUR':7, 'GBP':8, 'HKD':9 'IDR':10, 'JPY':11, 'KRW':12, 'KWD':13, 'MYR':14, 'NOK':15, 'NZD':16, 'SAR':17, 'SEK':18, 'SGD':19, 'THB':20, 'USD':21} \n",
    "    #API에서 제공하는 외환 리스트\n",
    "    \n",
    "    currency=('USD', 'CNH', 'JPY', 'EUR') #읽어드릴 외환 리스트\n",
    "    \n",
    "    if not api_set(today): #오늘 날짜를 입력했을때 API가 빈 정보를 반환할 경우 어제 날짜를 입력하여 정보 가져옴\n",
    "        raw=api_set(yesterday)\n",
    "    else: #API 반환 정보가 비어있지 않을 경우 당일 날짜를 입력하여 정보 가져옴\n",
    "        raw=api_set(today)\n",
    "        \n",
    "    for curr in currency: #currency 변수로 설정해둔 외환 리스트의 정보를 가져오고 가공\n",
    "        num = cur_list[curr]\n",
    "        data=(raw[num]['cur_nm'], raw[num]['cur_unit'], raw[num]['deal_bas_r'])\n",
    "        draft='현재 {cur_name}({cur_unit}의 기준 환율은 {currency}원입니다.'.format(cur_name=data[0], cur_unit=data[1], currency=data[2])\n",
    "        result.append(draft)\n",
    "        \n",
    "    text='\\n'.join(result)  #챗봇으로 보내기 좋게 메시지 가공\n",
    "    \n",
    "    \n",
    "    \n",
    "    my_token='telegram'  #botfather로 받은 토큰 입력\n",
    "    chatbot=telegram.Bot(token=my_token)\n",
    "    chat_id='chatid or channel address' #채널의 경우 @채널주소\n",
    "    chatbot.sendMessage(chat_id=chat_id, text=text) #최종 결과물의 text 변수를 챗봇으로 발송\n",
    "    \n",
    "if __name__ == '__main__':\n",
    "    main()\n",
    "        "
   ]
  },
  {
   "cell_type": "code",
   "execution_count": null,
   "metadata": {},
   "outputs": [],
   "source": []
  }
 ],
 "metadata": {
  "kernelspec": {
   "display_name": "Python 3",
   "language": "python",
   "name": "python3"
  },
  "language_info": {
   "codemirror_mode": {
    "name": "ipython",
    "version": 3
   },
   "file_extension": ".py",
   "mimetype": "text/x-python",
   "name": "python",
   "nbconvert_exporter": "python",
   "pygments_lexer": "ipython3",
   "version": "3.7.4"
  }
 },
 "nbformat": 4,
 "nbformat_minor": 4
}
